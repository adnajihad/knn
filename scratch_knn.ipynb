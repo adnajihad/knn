{
  "nbformat": 4,
  "nbformat_minor": 0,
  "metadata": {
    "colab": {
      "name": "scratch knn.ipynb",
      "provenance": [],
      "include_colab_link": true
    },
    "kernelspec": {
      "name": "python3",
      "display_name": "Python 3"
    }
  },
  "cells": [
    {
      "cell_type": "markdown",
      "metadata": {
        "id": "view-in-github",
        "colab_type": "text"
      },
      "source": [
        "<a href=\"https://colab.research.google.com/github/adnajihad/knn/blob/main/scratch_knn.ipynb\" target=\"_parent\"><img src=\"https://colab.research.google.com/assets/colab-badge.svg\" alt=\"Open In Colab\"/></a>"
      ]
    },
    {
      "cell_type": "code",
      "metadata": {
        "id": "yIZ7QGiL9GLV"
      },
      "source": [
        "import pandas as pd \r\n",
        "import seaborn as sns\r\n",
        "import matplotlib as mpl; mpl.rcParams['figure.dpi'] = 100\r\n",
        "from sklearn.preprocessing import MinMaxScaler\r\n",
        "import numpy as np\r\n",
        "from collections import Counter\r\n",
        "import math"
      ],
      "execution_count": 1,
      "outputs": []
    },
    {
      "cell_type": "code",
      "metadata": {
        "colab": {
          "base_uri": "https://localhost:8080/"
        },
        "id": "m0PltZD-8sXV",
        "outputId": "39a6579d-36eb-4009-cf4e-f379b4921294"
      },
      "source": [
        "!git clone https://github.com/adnajihad/knn"
      ],
      "execution_count": 2,
      "outputs": [
        {
          "output_type": "stream",
          "text": [
            "Cloning into 'knn'...\n",
            "remote: Enumerating objects: 6, done.\u001b[K\n",
            "remote: Counting objects: 100% (6/6), done.\u001b[K\n",
            "remote: Compressing objects: 100% (5/5), done.\u001b[K\n",
            "remote: Total 6 (delta 0), reused 0 (delta 0), pack-reused 0\u001b[K\n",
            "Unpacking objects: 100% (6/6), done.\n"
          ],
          "name": "stdout"
        }
      ]
    },
    {
      "cell_type": "markdown",
      "metadata": {
        "id": "K1wloQxu8_5n"
      },
      "source": [
        "# Function"
      ]
    },
    {
      "cell_type": "code",
      "metadata": {
        "id": "OFS65TPJ88zE"
      },
      "source": [
        "def empty_check(data) :\r\n",
        "  new_data = data.dropna(axis = 0, how ='any')\r\n",
        "  print(\"Panjang dataframe sebelumnya:\", len(data)) \r\n",
        "  print(\"Panjang dataframe setelah dilakukan pengecekan empty value :\", len(new_data))  \r\n",
        "  print(\"Jumlah baris dengan setidaknya 1 empty value : \", (len(data)-len(new_data))) \r\n",
        "  return new_data"
      ],
      "execution_count": 22,
      "outputs": []
    },
    {
      "cell_type": "code",
      "metadata": {
        "id": "iRGzs77x9b8L"
      },
      "source": [
        "# from sklearn.preprocessing import StandardScaler  #standarisasi\r\n",
        "def scale(data) :\r\n",
        "\r\n",
        "  # scaler = StandardScaler()\r\n",
        "  # scaler.fit(data)\r\n",
        "  # data_scaled = scaler.transform(data)\r\n",
        "\r\n",
        "  # data_norm = pd.DataFrame(data_scaled)\r\n",
        "  # data_norm = data_norm.rename(columns={0:'Pregnancies',1:'Glucose',2:'BloodPressure',3:'SkinThickness',4:'Insulin',5:'BMI',6:'DiabetesPedigreeFunction',7:'Age',8:'Outcome'})\r\n",
        "  \r\n",
        "  # return data_norm\r\n",
        "\r\n",
        "  #normalisasi\r\n",
        "  scaler = MinMaxScaler(feature_range=(0, 1))\r\n",
        "\r\n",
        "  data_scaled = scaler.fit_transform(data)\r\n",
        "  data_norm = pd.DataFrame(data_scaled)\r\n",
        "  data_norm = data_norm.rename(columns={0:'Pregnancies',1:'Glucose',2:'BloodPressure',3:'SkinThickness',4:'Insulin',5:'BMI',6:'DiabetesPedigreeFunction',7:'Age',8:'Outcome'})\r\n",
        "\r\n",
        "  return data_norm"
      ],
      "execution_count": 23,
      "outputs": []
    },
    {
      "cell_type": "code",
      "metadata": {
        "id": "C_5z5l6w-VlA"
      },
      "source": [
        "def euclideanDistance(train, tes):\r\n",
        "    x1 = train[0] - tes[0]\r\n",
        "    x2 = train[1] - tes[1]\r\n",
        "    x3 = train[2] - tes[2]\r\n",
        "    x4 = train[3] - tes[3]\r\n",
        "    x5 = train[4] - tes[4]\r\n",
        "    a = np.hypot(x1,x2)\r\n",
        "    b = np.hypot(x3,x4)\r\n",
        "    c = np.hypot(a,b)\r\n",
        "    return np.hypot(c,x5)"
      ],
      "execution_count": 24,
      "outputs": []
    },
    {
      "cell_type": "code",
      "metadata": {
        "id": "M-UyUMYB-fCu"
      },
      "source": [
        "def findNeighborsDistance(tes,train):\r\n",
        "    tempval = []\r\n",
        "    temp = []\r\n",
        "    \r\n",
        "    for i in range(0,len(tes)):\r\n",
        "        for j in range(0,len(train)):\r\n",
        "            temp.append([euclideanDistance(train[j], tes[i]), train[j][8]])\r\n",
        "        tempval.append(temp)\r\n",
        "        temp = [] \r\n",
        "    return tempval"
      ],
      "execution_count": 25,
      "outputs": []
    },
    {
      "cell_type": "code",
      "metadata": {
        "id": "naBtiUWz-frW"
      },
      "source": [
        "def getKNN(neighbors,k):\r\n",
        "    temp = []\r\n",
        "    KNN = []\r\n",
        "    \r\n",
        "    def IndexSort(data):\r\n",
        "        return data[0]\r\n",
        "    \r\n",
        "    for i in range(len(neighbors)):\r\n",
        "        neighbors[i].sort(key = IndexSort)\r\n",
        "        \r\n",
        "    for i in range(len(neighbors)):\r\n",
        "        for j in range(0,k):\r\n",
        "            temp.append(neighbors[i][j])\r\n",
        "        KNN.append(temp)\r\n",
        "        temp = []\r\n",
        "    return KNN"
      ],
      "execution_count": 26,
      "outputs": []
    },
    {
      "cell_type": "code",
      "metadata": {
        "id": "CiGIm0hk-isx"
      },
      "source": [
        "# return data class prediksi\r\n",
        "def predict(Test,Train,k):\r\n",
        "    Distances = findNeighborsDistance(Test,Train)\r\n",
        "    NearestNeighbors = getKNN(Distances,k)\r\n",
        "    \r\n",
        "    #nyisain class, ditampung ke variable validasi 2\r\n",
        "    NearestNeighbors2 = []\r\n",
        "    temp = []\r\n",
        "    for i in range(len(NearestNeighbors)):\r\n",
        "        for j in range(len(NearestNeighbors[i])):\r\n",
        "            temp.append(NearestNeighbors[i][j][1])\r\n",
        "        NearestNeighbors2.append(temp)\r\n",
        "        temp = []\r\n",
        "\r\n",
        "    #nampung HASIL Prediksi\r\n",
        "    Hasil = []\r\n",
        "    for i in range(len(NearestNeighbors2)):\r\n",
        "        data = Counter(NearestNeighbors2[i])\r\n",
        "        Hasil.append(data.most_common(1)[0][0])\r\n",
        "        \r\n",
        "    return Hasil "
      ],
      "execution_count": 27,
      "outputs": []
    },
    {
      "cell_type": "code",
      "metadata": {
        "id": "ysM9KH3u-mcP"
      },
      "source": [
        "def getAccuracy(tes, predictions):\r\n",
        "    testSet = tes['Outcome'].values.tolist()\r\n",
        "    correct = 0\r\n",
        "    for x in range(len(predictions)):\r\n",
        "        if testSet[x] == predictions[x]:\r\n",
        "            correct += 1\r\n",
        "    return (correct/float(len(testSet))) * 100.0"
      ],
      "execution_count": 28,
      "outputs": []
    },
    {
      "cell_type": "code",
      "metadata": {
        "id": "-pMWyURF-uKQ"
      },
      "source": [
        "def splitValidation(tes,train):\r\n",
        "    data_x = train.to_numpy()\r\n",
        "    data_y = tes.to_numpy()\r\n",
        "    #Cari K\r\n",
        "    K = []\r\n",
        "    for i in range(len(data_y)):\r\n",
        "        K.append((getAccuracy(tes,predict(data_y,data_x,i+1))))\r\n",
        "        # print(i,K[i])\r\n",
        "    return [K.index(max(K)), max(K)]"
      ],
      "execution_count": 48,
      "outputs": []
    },
    {
      "cell_type": "markdown",
      "metadata": {
        "id": "hEJmRbwO81Hl"
      },
      "source": [
        "# Preprocessing Data"
      ]
    },
    {
      "cell_type": "markdown",
      "metadata": {
        "id": "z7wr0r6K9mPh"
      },
      "source": [
        "Read Data"
      ]
    },
    {
      "cell_type": "code",
      "metadata": {
        "colab": {
          "base_uri": "https://localhost:8080/",
          "height": 419
        },
        "id": "2xS5nQ_C80x1",
        "outputId": "995d0c3d-5244-4758-a1a8-0db5a957861c"
      },
      "source": [
        "data = pd.read_csv('/content/knn/Diabetes.csv')\r\n",
        "data"
      ],
      "execution_count": 30,
      "outputs": [
        {
          "output_type": "execute_result",
          "data": {
            "text/html": [
              "<div>\n",
              "<style scoped>\n",
              "    .dataframe tbody tr th:only-of-type {\n",
              "        vertical-align: middle;\n",
              "    }\n",
              "\n",
              "    .dataframe tbody tr th {\n",
              "        vertical-align: top;\n",
              "    }\n",
              "\n",
              "    .dataframe thead th {\n",
              "        text-align: right;\n",
              "    }\n",
              "</style>\n",
              "<table border=\"1\" class=\"dataframe\">\n",
              "  <thead>\n",
              "    <tr style=\"text-align: right;\">\n",
              "      <th></th>\n",
              "      <th>Pregnancies</th>\n",
              "      <th>Glucose</th>\n",
              "      <th>BloodPressure</th>\n",
              "      <th>SkinThickness</th>\n",
              "      <th>Insulin</th>\n",
              "      <th>BMI</th>\n",
              "      <th>DiabetesPedigreeFunction</th>\n",
              "      <th>Age</th>\n",
              "      <th>Outcome</th>\n",
              "    </tr>\n",
              "  </thead>\n",
              "  <tbody>\n",
              "    <tr>\n",
              "      <th>0</th>\n",
              "      <td>6</td>\n",
              "      <td>148</td>\n",
              "      <td>72</td>\n",
              "      <td>35</td>\n",
              "      <td>0</td>\n",
              "      <td>33.6</td>\n",
              "      <td>0.627</td>\n",
              "      <td>50</td>\n",
              "      <td>1</td>\n",
              "    </tr>\n",
              "    <tr>\n",
              "      <th>1</th>\n",
              "      <td>1</td>\n",
              "      <td>85</td>\n",
              "      <td>66</td>\n",
              "      <td>29</td>\n",
              "      <td>0</td>\n",
              "      <td>26.6</td>\n",
              "      <td>0.351</td>\n",
              "      <td>31</td>\n",
              "      <td>0</td>\n",
              "    </tr>\n",
              "    <tr>\n",
              "      <th>2</th>\n",
              "      <td>8</td>\n",
              "      <td>183</td>\n",
              "      <td>64</td>\n",
              "      <td>0</td>\n",
              "      <td>0</td>\n",
              "      <td>23.3</td>\n",
              "      <td>0.672</td>\n",
              "      <td>32</td>\n",
              "      <td>1</td>\n",
              "    </tr>\n",
              "    <tr>\n",
              "      <th>3</th>\n",
              "      <td>1</td>\n",
              "      <td>89</td>\n",
              "      <td>66</td>\n",
              "      <td>23</td>\n",
              "      <td>94</td>\n",
              "      <td>28.1</td>\n",
              "      <td>0.167</td>\n",
              "      <td>21</td>\n",
              "      <td>0</td>\n",
              "    </tr>\n",
              "    <tr>\n",
              "      <th>4</th>\n",
              "      <td>0</td>\n",
              "      <td>137</td>\n",
              "      <td>40</td>\n",
              "      <td>35</td>\n",
              "      <td>168</td>\n",
              "      <td>43.1</td>\n",
              "      <td>2.288</td>\n",
              "      <td>33</td>\n",
              "      <td>1</td>\n",
              "    </tr>\n",
              "    <tr>\n",
              "      <th>...</th>\n",
              "      <td>...</td>\n",
              "      <td>...</td>\n",
              "      <td>...</td>\n",
              "      <td>...</td>\n",
              "      <td>...</td>\n",
              "      <td>...</td>\n",
              "      <td>...</td>\n",
              "      <td>...</td>\n",
              "      <td>...</td>\n",
              "    </tr>\n",
              "    <tr>\n",
              "      <th>763</th>\n",
              "      <td>10</td>\n",
              "      <td>101</td>\n",
              "      <td>76</td>\n",
              "      <td>48</td>\n",
              "      <td>180</td>\n",
              "      <td>32.9</td>\n",
              "      <td>0.171</td>\n",
              "      <td>63</td>\n",
              "      <td>0</td>\n",
              "    </tr>\n",
              "    <tr>\n",
              "      <th>764</th>\n",
              "      <td>2</td>\n",
              "      <td>122</td>\n",
              "      <td>70</td>\n",
              "      <td>27</td>\n",
              "      <td>0</td>\n",
              "      <td>36.8</td>\n",
              "      <td>0.340</td>\n",
              "      <td>27</td>\n",
              "      <td>0</td>\n",
              "    </tr>\n",
              "    <tr>\n",
              "      <th>765</th>\n",
              "      <td>5</td>\n",
              "      <td>121</td>\n",
              "      <td>72</td>\n",
              "      <td>23</td>\n",
              "      <td>112</td>\n",
              "      <td>26.2</td>\n",
              "      <td>0.245</td>\n",
              "      <td>30</td>\n",
              "      <td>0</td>\n",
              "    </tr>\n",
              "    <tr>\n",
              "      <th>766</th>\n",
              "      <td>1</td>\n",
              "      <td>126</td>\n",
              "      <td>60</td>\n",
              "      <td>0</td>\n",
              "      <td>0</td>\n",
              "      <td>30.1</td>\n",
              "      <td>0.349</td>\n",
              "      <td>47</td>\n",
              "      <td>1</td>\n",
              "    </tr>\n",
              "    <tr>\n",
              "      <th>767</th>\n",
              "      <td>1</td>\n",
              "      <td>93</td>\n",
              "      <td>70</td>\n",
              "      <td>31</td>\n",
              "      <td>0</td>\n",
              "      <td>30.4</td>\n",
              "      <td>0.315</td>\n",
              "      <td>23</td>\n",
              "      <td>0</td>\n",
              "    </tr>\n",
              "  </tbody>\n",
              "</table>\n",
              "<p>768 rows × 9 columns</p>\n",
              "</div>"
            ],
            "text/plain": [
              "     Pregnancies  Glucose  ...  Age  Outcome\n",
              "0              6      148  ...   50        1\n",
              "1              1       85  ...   31        0\n",
              "2              8      183  ...   32        1\n",
              "3              1       89  ...   21        0\n",
              "4              0      137  ...   33        1\n",
              "..           ...      ...  ...  ...      ...\n",
              "763           10      101  ...   63        0\n",
              "764            2      122  ...   27        0\n",
              "765            5      121  ...   30        0\n",
              "766            1      126  ...   47        1\n",
              "767            1       93  ...   23        0\n",
              "\n",
              "[768 rows x 9 columns]"
            ]
          },
          "metadata": {
            "tags": []
          },
          "execution_count": 30
        }
      ]
    },
    {
      "cell_type": "markdown",
      "metadata": {
        "id": "FEYnd7rT9oI0"
      },
      "source": [
        "Check empty value"
      ]
    },
    {
      "cell_type": "code",
      "metadata": {
        "id": "FEOOR-E585Fd",
        "colab": {
          "base_uri": "https://localhost:8080/",
          "height": 470
        },
        "outputId": "9f06621e-8d97-4a0d-9a1d-90a82855f08b"
      },
      "source": [
        "empty_check(data)"
      ],
      "execution_count": 31,
      "outputs": [
        {
          "output_type": "stream",
          "text": [
            "Panjang dataframe sebelumnya: 768\n",
            "Panjang dataframe setelah dilakukan pengecekan empty value : 768\n",
            "Jumlah baris dengan setidaknya 1 empty value :  0\n"
          ],
          "name": "stdout"
        },
        {
          "output_type": "execute_result",
          "data": {
            "text/html": [
              "<div>\n",
              "<style scoped>\n",
              "    .dataframe tbody tr th:only-of-type {\n",
              "        vertical-align: middle;\n",
              "    }\n",
              "\n",
              "    .dataframe tbody tr th {\n",
              "        vertical-align: top;\n",
              "    }\n",
              "\n",
              "    .dataframe thead th {\n",
              "        text-align: right;\n",
              "    }\n",
              "</style>\n",
              "<table border=\"1\" class=\"dataframe\">\n",
              "  <thead>\n",
              "    <tr style=\"text-align: right;\">\n",
              "      <th></th>\n",
              "      <th>Pregnancies</th>\n",
              "      <th>Glucose</th>\n",
              "      <th>BloodPressure</th>\n",
              "      <th>SkinThickness</th>\n",
              "      <th>Insulin</th>\n",
              "      <th>BMI</th>\n",
              "      <th>DiabetesPedigreeFunction</th>\n",
              "      <th>Age</th>\n",
              "      <th>Outcome</th>\n",
              "    </tr>\n",
              "  </thead>\n",
              "  <tbody>\n",
              "    <tr>\n",
              "      <th>0</th>\n",
              "      <td>6</td>\n",
              "      <td>148</td>\n",
              "      <td>72</td>\n",
              "      <td>35</td>\n",
              "      <td>0</td>\n",
              "      <td>33.6</td>\n",
              "      <td>0.627</td>\n",
              "      <td>50</td>\n",
              "      <td>1</td>\n",
              "    </tr>\n",
              "    <tr>\n",
              "      <th>1</th>\n",
              "      <td>1</td>\n",
              "      <td>85</td>\n",
              "      <td>66</td>\n",
              "      <td>29</td>\n",
              "      <td>0</td>\n",
              "      <td>26.6</td>\n",
              "      <td>0.351</td>\n",
              "      <td>31</td>\n",
              "      <td>0</td>\n",
              "    </tr>\n",
              "    <tr>\n",
              "      <th>2</th>\n",
              "      <td>8</td>\n",
              "      <td>183</td>\n",
              "      <td>64</td>\n",
              "      <td>0</td>\n",
              "      <td>0</td>\n",
              "      <td>23.3</td>\n",
              "      <td>0.672</td>\n",
              "      <td>32</td>\n",
              "      <td>1</td>\n",
              "    </tr>\n",
              "    <tr>\n",
              "      <th>3</th>\n",
              "      <td>1</td>\n",
              "      <td>89</td>\n",
              "      <td>66</td>\n",
              "      <td>23</td>\n",
              "      <td>94</td>\n",
              "      <td>28.1</td>\n",
              "      <td>0.167</td>\n",
              "      <td>21</td>\n",
              "      <td>0</td>\n",
              "    </tr>\n",
              "    <tr>\n",
              "      <th>4</th>\n",
              "      <td>0</td>\n",
              "      <td>137</td>\n",
              "      <td>40</td>\n",
              "      <td>35</td>\n",
              "      <td>168</td>\n",
              "      <td>43.1</td>\n",
              "      <td>2.288</td>\n",
              "      <td>33</td>\n",
              "      <td>1</td>\n",
              "    </tr>\n",
              "    <tr>\n",
              "      <th>...</th>\n",
              "      <td>...</td>\n",
              "      <td>...</td>\n",
              "      <td>...</td>\n",
              "      <td>...</td>\n",
              "      <td>...</td>\n",
              "      <td>...</td>\n",
              "      <td>...</td>\n",
              "      <td>...</td>\n",
              "      <td>...</td>\n",
              "    </tr>\n",
              "    <tr>\n",
              "      <th>763</th>\n",
              "      <td>10</td>\n",
              "      <td>101</td>\n",
              "      <td>76</td>\n",
              "      <td>48</td>\n",
              "      <td>180</td>\n",
              "      <td>32.9</td>\n",
              "      <td>0.171</td>\n",
              "      <td>63</td>\n",
              "      <td>0</td>\n",
              "    </tr>\n",
              "    <tr>\n",
              "      <th>764</th>\n",
              "      <td>2</td>\n",
              "      <td>122</td>\n",
              "      <td>70</td>\n",
              "      <td>27</td>\n",
              "      <td>0</td>\n",
              "      <td>36.8</td>\n",
              "      <td>0.340</td>\n",
              "      <td>27</td>\n",
              "      <td>0</td>\n",
              "    </tr>\n",
              "    <tr>\n",
              "      <th>765</th>\n",
              "      <td>5</td>\n",
              "      <td>121</td>\n",
              "      <td>72</td>\n",
              "      <td>23</td>\n",
              "      <td>112</td>\n",
              "      <td>26.2</td>\n",
              "      <td>0.245</td>\n",
              "      <td>30</td>\n",
              "      <td>0</td>\n",
              "    </tr>\n",
              "    <tr>\n",
              "      <th>766</th>\n",
              "      <td>1</td>\n",
              "      <td>126</td>\n",
              "      <td>60</td>\n",
              "      <td>0</td>\n",
              "      <td>0</td>\n",
              "      <td>30.1</td>\n",
              "      <td>0.349</td>\n",
              "      <td>47</td>\n",
              "      <td>1</td>\n",
              "    </tr>\n",
              "    <tr>\n",
              "      <th>767</th>\n",
              "      <td>1</td>\n",
              "      <td>93</td>\n",
              "      <td>70</td>\n",
              "      <td>31</td>\n",
              "      <td>0</td>\n",
              "      <td>30.4</td>\n",
              "      <td>0.315</td>\n",
              "      <td>23</td>\n",
              "      <td>0</td>\n",
              "    </tr>\n",
              "  </tbody>\n",
              "</table>\n",
              "<p>768 rows × 9 columns</p>\n",
              "</div>"
            ],
            "text/plain": [
              "     Pregnancies  Glucose  ...  Age  Outcome\n",
              "0              6      148  ...   50        1\n",
              "1              1       85  ...   31        0\n",
              "2              8      183  ...   32        1\n",
              "3              1       89  ...   21        0\n",
              "4              0      137  ...   33        1\n",
              "..           ...      ...  ...  ...      ...\n",
              "763           10      101  ...   63        0\n",
              "764            2      122  ...   27        0\n",
              "765            5      121  ...   30        0\n",
              "766            1      126  ...   47        1\n",
              "767            1       93  ...   23        0\n",
              "\n",
              "[768 rows x 9 columns]"
            ]
          },
          "metadata": {
            "tags": []
          },
          "execution_count": 31
        }
      ]
    },
    {
      "cell_type": "markdown",
      "metadata": {
        "id": "qavKkqBZ9rFz"
      },
      "source": [
        "Visualizing heatmap for data correlation"
      ]
    },
    {
      "cell_type": "code",
      "metadata": {
        "id": "scMyQGlp9EG7",
        "colab": {
          "base_uri": "https://localhost:8080/",
          "height": 407
        },
        "outputId": "8a1b0baf-8033-428e-e7bc-b70087f34d07"
      },
      "source": [
        "sns.heatmap(data.corr(), linewidths=.01, vmax=1, annot=True)"
      ],
      "execution_count": 32,
      "outputs": [
        {
          "output_type": "execute_result",
          "data": {
            "text/plain": [
              "<matplotlib.axes._subplots.AxesSubplot at 0x7f1d07f5b208>"
            ]
          },
          "metadata": {
            "tags": []
          },
          "execution_count": 32
        },
        {
          "output_type": "display_data",
          "data": {
            "image/png": "[encoded data removed]",
            "text/plain": [
              "<Figure size 432x288 with 2 Axes>"
            ]
          },
          "metadata": {
            "tags": [],
            "needs_background": "light"
          }
        }
      ]
    },
    {
      "cell_type": "markdown",
      "metadata": {
        "id": "RtVeaXF49vCx"
      },
      "source": [
        "Data normalization"
      ]
    },
    {
      "cell_type": "code",
      "metadata": {
        "id": "Mf7zpac49kzV",
        "colab": {
          "base_uri": "https://localhost:8080/",
          "height": 419
        },
        "outputId": "b4621f92-45a9-438c-ae9b-e7abad525165"
      },
      "source": [
        "data = scale(data)\r\n",
        "data"
      ],
      "execution_count": 33,
      "outputs": [
        {
          "output_type": "execute_result",
          "data": {
            "text/html": [
              "<div>\n",
              "<style scoped>\n",
              "    .dataframe tbody tr th:only-of-type {\n",
              "        vertical-align: middle;\n",
              "    }\n",
              "\n",
              "    .dataframe tbody tr th {\n",
              "        vertical-align: top;\n",
              "    }\n",
              "\n",
              "    .dataframe thead th {\n",
              "        text-align: right;\n",
              "    }\n",
              "</style>\n",
              "<table border=\"1\" class=\"dataframe\">\n",
              "  <thead>\n",
              "    <tr style=\"text-align: right;\">\n",
              "      <th></th>\n",
              "      <th>Pregnancies</th>\n",
              "      <th>Glucose</th>\n",
              "      <th>BloodPressure</th>\n",
              "      <th>SkinThickness</th>\n",
              "      <th>Insulin</th>\n",
              "      <th>BMI</th>\n",
              "      <th>DiabetesPedigreeFunction</th>\n",
              "      <th>Age</th>\n",
              "      <th>Outcome</th>\n",
              "    </tr>\n",
              "  </thead>\n",
              "  <tbody>\n",
              "    <tr>\n",
              "      <th>0</th>\n",
              "      <td>0.352941</td>\n",
              "      <td>0.743719</td>\n",
              "      <td>0.590164</td>\n",
              "      <td>0.353535</td>\n",
              "      <td>0.000000</td>\n",
              "      <td>0.500745</td>\n",
              "      <td>0.234415</td>\n",
              "      <td>0.483333</td>\n",
              "      <td>1.0</td>\n",
              "    </tr>\n",
              "    <tr>\n",
              "      <th>1</th>\n",
              "      <td>0.058824</td>\n",
              "      <td>0.427136</td>\n",
              "      <td>0.540984</td>\n",
              "      <td>0.292929</td>\n",
              "      <td>0.000000</td>\n",
              "      <td>0.396423</td>\n",
              "      <td>0.116567</td>\n",
              "      <td>0.166667</td>\n",
              "      <td>0.0</td>\n",
              "    </tr>\n",
              "    <tr>\n",
              "      <th>2</th>\n",
              "      <td>0.470588</td>\n",
              "      <td>0.919598</td>\n",
              "      <td>0.524590</td>\n",
              "      <td>0.000000</td>\n",
              "      <td>0.000000</td>\n",
              "      <td>0.347243</td>\n",
              "      <td>0.253629</td>\n",
              "      <td>0.183333</td>\n",
              "      <td>1.0</td>\n",
              "    </tr>\n",
              "    <tr>\n",
              "      <th>3</th>\n",
              "      <td>0.058824</td>\n",
              "      <td>0.447236</td>\n",
              "      <td>0.540984</td>\n",
              "      <td>0.232323</td>\n",
              "      <td>0.111111</td>\n",
              "      <td>0.418778</td>\n",
              "      <td>0.038002</td>\n",
              "      <td>0.000000</td>\n",
              "      <td>0.0</td>\n",
              "    </tr>\n",
              "    <tr>\n",
              "      <th>4</th>\n",
              "      <td>0.000000</td>\n",
              "      <td>0.688442</td>\n",
              "      <td>0.327869</td>\n",
              "      <td>0.353535</td>\n",
              "      <td>0.198582</td>\n",
              "      <td>0.642325</td>\n",
              "      <td>0.943638</td>\n",
              "      <td>0.200000</td>\n",
              "      <td>1.0</td>\n",
              "    </tr>\n",
              "    <tr>\n",
              "      <th>...</th>\n",
              "      <td>...</td>\n",
              "      <td>...</td>\n",
              "      <td>...</td>\n",
              "      <td>...</td>\n",
              "      <td>...</td>\n",
              "      <td>...</td>\n",
              "      <td>...</td>\n",
              "      <td>...</td>\n",
              "      <td>...</td>\n",
              "    </tr>\n",
              "    <tr>\n",
              "      <th>763</th>\n",
              "      <td>0.588235</td>\n",
              "      <td>0.507538</td>\n",
              "      <td>0.622951</td>\n",
              "      <td>0.484848</td>\n",
              "      <td>0.212766</td>\n",
              "      <td>0.490313</td>\n",
              "      <td>0.039710</td>\n",
              "      <td>0.700000</td>\n",
              "      <td>0.0</td>\n",
              "    </tr>\n",
              "    <tr>\n",
              "      <th>764</th>\n",
              "      <td>0.117647</td>\n",
              "      <td>0.613065</td>\n",
              "      <td>0.573770</td>\n",
              "      <td>0.272727</td>\n",
              "      <td>0.000000</td>\n",
              "      <td>0.548435</td>\n",
              "      <td>0.111870</td>\n",
              "      <td>0.100000</td>\n",
              "      <td>0.0</td>\n",
              "    </tr>\n",
              "    <tr>\n",
              "      <th>765</th>\n",
              "      <td>0.294118</td>\n",
              "      <td>0.608040</td>\n",
              "      <td>0.590164</td>\n",
              "      <td>0.232323</td>\n",
              "      <td>0.132388</td>\n",
              "      <td>0.390462</td>\n",
              "      <td>0.071307</td>\n",
              "      <td>0.150000</td>\n",
              "      <td>0.0</td>\n",
              "    </tr>\n",
              "    <tr>\n",
              "      <th>766</th>\n",
              "      <td>0.058824</td>\n",
              "      <td>0.633166</td>\n",
              "      <td>0.491803</td>\n",
              "      <td>0.000000</td>\n",
              "      <td>0.000000</td>\n",
              "      <td>0.448584</td>\n",
              "      <td>0.115713</td>\n",
              "      <td>0.433333</td>\n",
              "      <td>1.0</td>\n",
              "    </tr>\n",
              "    <tr>\n",
              "      <th>767</th>\n",
              "      <td>0.058824</td>\n",
              "      <td>0.467337</td>\n",
              "      <td>0.573770</td>\n",
              "      <td>0.313131</td>\n",
              "      <td>0.000000</td>\n",
              "      <td>0.453055</td>\n",
              "      <td>0.101196</td>\n",
              "      <td>0.033333</td>\n",
              "      <td>0.0</td>\n",
              "    </tr>\n",
              "  </tbody>\n",
              "</table>\n",
              "<p>768 rows × 9 columns</p>\n",
              "</div>"
            ],
            "text/plain": [
              "     Pregnancies   Glucose  ...       Age  Outcome\n",
              "0       0.352941  0.743719  ...  0.483333      1.0\n",
              "1       0.058824  0.427136  ...  0.166667      0.0\n",
              "2       0.470588  0.919598  ...  0.183333      1.0\n",
              "3       0.058824  0.447236  ...  0.000000      0.0\n",
              "4       0.000000  0.688442  ...  0.200000      1.0\n",
              "..           ...       ...  ...       ...      ...\n",
              "763     0.588235  0.507538  ...  0.700000      0.0\n",
              "764     0.117647  0.613065  ...  0.100000      0.0\n",
              "765     0.294118  0.608040  ...  0.150000      0.0\n",
              "766     0.058824  0.633166  ...  0.433333      1.0\n",
              "767     0.058824  0.467337  ...  0.033333      0.0\n",
              "\n",
              "[768 rows x 9 columns]"
            ]
          },
          "metadata": {
            "tags": []
          },
          "execution_count": 33
        }
      ]
    },
    {
      "cell_type": "markdown",
      "metadata": {
        "id": "4bxUChZb9xFw"
      },
      "source": [
        "Split data"
      ]
    },
    {
      "cell_type": "code",
      "metadata": {
        "id": "gDQ__o3j9Phx",
        "colab": {
          "base_uri": "https://localhost:8080/"
        },
        "outputId": "842cef49-cffa-49bf-d8fa-6ea1dbdc4eba"
      },
      "source": [
        "#1.\tBaris ke-1 sampai baris ke-614 sebagai training set dan sisanya sebagai testing set;\r\n",
        "dt_train1 = data.iloc[0:613]\r\n",
        "dt_test1 = data.iloc[614:767]\r\n",
        "print('Panjang data train 1 :',len(dt_train1))\r\n",
        "print('Panjang data test 1 :',len(dt_test1))\r\n",
        "print()\r\n",
        "\r\n",
        "#2.\tBaris ke-1 sampai baris ke-461 ditambah baris ke-642 sampai 768 sebagai training set dan yang lain sebagai testing set;\r\n",
        "dt_train2a = data.iloc[0:460]\r\n",
        "dt_train2b = data.iloc[641:767]\r\n",
        "dt_train2 = pd.concat([dt_train2a, dt_train2b])\r\n",
        "\r\n",
        "dt_test2 = data.iloc[461:640]\r\n",
        "print('Panjang data train 2 :',len(dt_train2))\r\n",
        "print('Panjang data test 2 :',len(dt_test2))\r\n",
        "print()\r\n",
        "\r\n",
        "#3.\tBaris ke-1 sampai baris ke-307 ditambah baris ke-462 sampai 768 sebagai training set dan yang lain sebagai testing set;\r\n",
        "dt_train3a = data.iloc[0:306]\r\n",
        "dt_train3b = data.iloc[461:767]\r\n",
        "dt_train3 = pd.concat([dt_train3a, dt_train3b])\r\n",
        "\r\n",
        "dt_test3 = data.iloc[307:460]\r\n",
        "print('Panjang data train 3 :',len(dt_train3))\r\n",
        "print('Panjang data test 3 :',len(dt_test3))\r\n",
        "print()\r\n",
        "\r\n",
        "#4.\tBaris ke-1 sampai baris ke-154 ditambah baris ke-308 sampai 768 sebagai training set dan yang lain sebagai testing set;\r\n",
        "dt_train4a = data.iloc[0:153]\r\n",
        "dt_train4b = data.iloc[307:767]\r\n",
        "dt_train4 = pd.concat([dt_train4a, dt_train4b])\r\n",
        "\r\n",
        "dt_test4 = data.iloc[154:306]\r\n",
        "print('Panjang data train 4 :',len(dt_train4))\r\n",
        "print('Panjang data test 4 :',len(dt_test4))\r\n",
        "print()\r\n",
        "\r\n",
        "#5.\tBaris ke-155 sampai sampai 768 sebagai training set dan yang lain sebagai testing set.\r\n",
        "dt_train5 = data.iloc[154:767]\r\n",
        "dt_test5 = data.iloc[0:153]\r\n",
        "print('Panjang data train 5 :',len(dt_train5))\r\n",
        "print('Panjang data test 5 :',len(dt_test5))\r\n",
        "print()"
      ],
      "execution_count": 34,
      "outputs": [
        {
          "output_type": "stream",
          "text": [
            "Panjang data train 1 : 613\n",
            "Panjang data test 1 : 153\n",
            "\n",
            "Panjang data train 2 : 586\n",
            "Panjang data test 2 : 179\n",
            "\n",
            "Panjang data train 3 : 612\n",
            "Panjang data test 3 : 153\n",
            "\n",
            "Panjang data train 4 : 613\n",
            "Panjang data test 4 : 152\n",
            "\n",
            "Panjang data train 5 : 613\n",
            "Panjang data test 5 : 153\n",
            "\n"
          ],
          "name": "stdout"
        }
      ]
    },
    {
      "cell_type": "markdown",
      "metadata": {
        "id": "mBDZYQ0L-xAq"
      },
      "source": [
        "# Main Program"
      ]
    },
    {
      "cell_type": "markdown",
      "metadata": {
        "id": "AyKxgR0V-2kF"
      },
      "source": [
        "No. 1 Baris ke-1 sampai baris ke-614 sebagai training set dan sisanya sebagai testing set;"
      ]
    },
    {
      "cell_type": "code",
      "metadata": {
        "id": "MXGpDVqa-1Eq",
        "colab": {
          "base_uri": "https://localhost:8080/"
        },
        "outputId": "92e79b76-df21-4dcc-a34c-2ebe4a4b235d"
      },
      "source": [
        "CrossVal = splitValidation(dt_test1,dt_train1)\r\n",
        "print(\"K : \",CrossVal[0],\", Accuracy : \", CrossVal[1])"
      ],
      "execution_count": 49,
      "outputs": [
        {
          "output_type": "stream",
          "text": [
            "K :  27 , Accuracy :  75.81699346405229\n"
          ],
          "name": "stdout"
        }
      ]
    },
    {
      "cell_type": "markdown",
      "metadata": {
        "id": "8-4yGwF0_Bht"
      },
      "source": [
        "No. 2 Baris ke-1 sampai baris ke-461 ditambah baris ke-642 sampai 768 sebagai training set dan yang lain sebagai testing set;"
      ]
    },
    {
      "cell_type": "code",
      "metadata": {
        "id": "T5m0rBGh-51r",
        "colab": {
          "base_uri": "https://localhost:8080/"
        },
        "outputId": "771d41f1-af93-49ae-f0ff-0e8208a3c41c"
      },
      "source": [
        "CrossVal = splitValidation(dt_test2,dt_train2)\r\n",
        "print(\"K : \",CrossVal[0],\", Accuracy : \", CrossVal[1])"
      ],
      "execution_count": 36,
      "outputs": [
        {
          "output_type": "stream",
          "text": [
            "K :  8 , Accuracy :  82.68156424581005\n"
          ],
          "name": "stdout"
        }
      ]
    },
    {
      "cell_type": "markdown",
      "metadata": {
        "id": "G-MkpYM7_C1W"
      },
      "source": [
        "No. 3 Baris ke-1 sampai baris ke-307 ditambah baris ke-462 sampai 768 sebagai training set dan yang lain sebagai testing set;"
      ]
    },
    {
      "cell_type": "code",
      "metadata": {
        "id": "7LSvLbUH-6dX",
        "colab": {
          "base_uri": "https://localhost:8080/"
        },
        "outputId": "c7451179-efd0-4099-d4e1-6581adc8f38b"
      },
      "source": [
        "CrossVal = splitValidation(dt_test3,dt_train3)\r\n",
        "print(\"K : \",CrossVal[0],\", Accuracy : \", CrossVal[1])"
      ],
      "execution_count": 37,
      "outputs": [
        {
          "output_type": "stream",
          "text": [
            "K :  59 , Accuracy :  75.81699346405229\n"
          ],
          "name": "stdout"
        }
      ]
    },
    {
      "cell_type": "markdown",
      "metadata": {
        "id": "Omuu80eg_D6_"
      },
      "source": [
        "No. 4 Baris ke-1 sampai baris ke-154 ditambah baris ke-308 sampai 768 sebagai training set dan yang lain sebagai testing set;"
      ]
    },
    {
      "cell_type": "code",
      "metadata": {
        "id": "TBhhJnd5-7B5",
        "colab": {
          "base_uri": "https://localhost:8080/"
        },
        "outputId": "5eb6ec64-1c8a-4b95-f1e7-f34a374c7d96"
      },
      "source": [
        "CrossVal = splitValidation(dt_test4,dt_train4)\r\n",
        "print(\"K : \",CrossVal[0],\", Accuracy : \", CrossVal[1])"
      ],
      "execution_count": 38,
      "outputs": [
        {
          "output_type": "stream",
          "text": [
            "K :  2 , Accuracy :  68.42105263157895\n"
          ],
          "name": "stdout"
        }
      ]
    },
    {
      "cell_type": "markdown",
      "metadata": {
        "id": "KcLCi2ng_FQd"
      },
      "source": [
        "No. 5 Baris ke-155 sampai sampai 768 sebagai training set dan yang lain sebagai testing set."
      ]
    },
    {
      "cell_type": "code",
      "metadata": {
        "id": "xNcH_x-G-7kP",
        "colab": {
          "base_uri": "https://localhost:8080/"
        },
        "outputId": "e87440f2-84eb-48ed-eeb0-42bdc1ac7121"
      },
      "source": [
        "CrossVal = splitValidation(dt_test5,dt_train5)\r\n",
        "print(\"K : \",CrossVal[0],\", Accuracy : \", CrossVal[1])"
      ],
      "execution_count": 39,
      "outputs": [
        {
          "output_type": "stream",
          "text": [
            "K :  7 , Accuracy :  78.43137254901961\n"
          ],
          "name": "stdout"
        }
      ]
    }
  ]
}